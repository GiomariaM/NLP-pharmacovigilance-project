{
  "nbformat": 4,
  "nbformat_minor": 0,
  "metadata": {
    "colab": {
      "provenance": []
    },
    "kernelspec": {
      "name": "python3",
      "display_name": "Python 3"
    },
    "language_info": {
      "name": "python"
    }
  },
  "cells": [
    {
      "cell_type": "code",
      "source": [
        "!pip install rank_bm25\n",
        "!pip install stop_words\n",
        "import pandas as pd\n",
        "import nltk\n",
        "import re\n",
        "from stop_words import get_stop_words\n",
        "from nltk.stem import WordNetLemmatizer\n",
        "from rank_bm25 import BM25Okapi\n",
        "from sklearn.feature_extraction.text import TfidfVectorizer\n",
        "from sklearn.metrics.pairwise import cosine_similarity"
      ],
      "metadata": {
        "colab": {
          "base_uri": "https://localhost:8080/"
        },
        "id": "UPNlYdJYnxoF",
        "executionInfo": {
          "status": "ok",
          "timestamp": 1678722408963,
          "user_tz": 0,
          "elapsed": 10718,
          "user": {
            "displayName": "Karina",
            "userId": "10900104624874413001"
          }
        },
        "outputId": "7695c95f-9fac-4d75-8ff8-d4b6e30bf6cb"
      },
      "execution_count": null,
      "outputs": [
        {
          "output_type": "stream",
          "name": "stdout",
          "text": [
            "Looking in indexes: https://pypi.org/simple, https://us-python.pkg.dev/colab-wheels/public/simple/\n",
            "Collecting rank_bm25\n",
            "  Downloading rank_bm25-0.2.2-py3-none-any.whl (8.6 kB)\n",
            "Requirement already satisfied: numpy in /usr/local/lib/python3.9/dist-packages (from rank_bm25) (1.22.4)\n",
            "Installing collected packages: rank_bm25\n",
            "Successfully installed rank_bm25-0.2.2\n",
            "Looking in indexes: https://pypi.org/simple, https://us-python.pkg.dev/colab-wheels/public/simple/\n",
            "Collecting stop_words\n",
            "  Downloading stop-words-2018.7.23.tar.gz (31 kB)\n",
            "  Preparing metadata (setup.py) ... \u001b[?25l\u001b[?25hdone\n",
            "Building wheels for collected packages: stop_words\n",
            "  Building wheel for stop_words (setup.py) ... \u001b[?25l\u001b[?25hdone\n",
            "  Created wheel for stop_words: filename=stop_words-2018.7.23-py3-none-any.whl size=32910 sha256=2e7b67a0b69528b020fac384f83b9678c11d3b2a1cfdb78b07f82a0b3c4aeee6\n",
            "  Stored in directory: /root/.cache/pip/wheels/da/d8/66/395317506a23a9d1d7de433ad6a7d9e6e16aab48cf028a0f60\n",
            "Successfully built stop_words\n",
            "Installing collected packages: stop_words\n",
            "Successfully installed stop_words-2018.7.23\n"
          ]
        }
      ]
    },
    {
      "cell_type": "code",
      "source": [
        "drug_reviews_train = pd.read_csv('drugsComTrain_raw.csv')\n",
        "drug_reviews_test = pd.read_csv('drugsComTest_raw.csv')\n",
        "drug_reviews = pd.concat([drug_reviews_train, drug_reviews_test], axis = 0)\n",
        "drug_reviews.reset_index(drop=True, inplace=True)\n",
        "\n",
        "reviews_list = drug_reviews.review.to_list()\n",
        "reviews_id = drug_reviews. uniqueID.to_list()\n",
        "\n",
        "adr_lexicon = pd.read_csv('ADR_lexicon.txt', sep='\\t', header=None)\n",
        "adr_lexicon.columns = [\"UMLS_ID\", \"condition\", \"source\"]\n",
        "adr_list =  adr_lexicon.condition.to_list()\n",
        "adr_id = adr_lexicon.UMLS_ID.to_list()"
      ],
      "metadata": {
        "id": "5jMQCxJ9n2Y5"
      },
      "execution_count": null,
      "outputs": []
    },
    {
      "cell_type": "code",
      "execution_count": null,
      "metadata": {
        "id": "yGXkcudznOom"
      },
      "outputs": [],
      "source": [
        "def preprocessing(content, remove_sw):\n",
        "\n",
        "    # convert the text to lowercase\n",
        "    content = content.lower()\n",
        "    regex = re.compile('[^a-z\\s]+')\n",
        "\n",
        "    # remove all commas so that constructions such as $70,000 maintain their meaning and do not get split:'70', '000'\n",
        "    content = regex.sub('', content)\n",
        "\n",
        "    # https://www.adamsmith.haus/python/answers/how-to-remove-all-punctuation-marks-with-nltk-in-python\n",
        "    # remove punctuation and tokenize (which will be the same as 1-grams)\n",
        "    tokenizer = nltk.RegexpTokenizer(r\"\\w+\")\n",
        "    one_grams = tokenizer.tokenize(content)\n",
        "\n",
        "    #remove stopwords\n",
        "    if remove_sw == True:\n",
        "        one_grams = [i for i in one_grams if i not in get_stop_words('english')]\n",
        "\n",
        "    # lemmatize\n",
        "    lemmatizer = WordNetLemmatizer()\n",
        "    words = []\n",
        "    for word in one_grams:\n",
        "        words.append(lemmatizer.lemmatize(word))   \n",
        "\n",
        "    return words"
      ]
    },
    {
      "cell_type": "code",
      "source": [
        "preprocessed_adr = [preprocessing(i, remove_sw=True) for i in adr_list]\n",
        "preprocessed_reviews = [preprocessing(i, remove_sw=True) for i in reviews_list]\n",
        "\n",
        "ADRs = dict(zip(adr_id, preprocessed_adr))\n",
        "reviews = dict(zip(reviews_id, preprocessed_reviews))"
      ],
      "metadata": {
        "id": "X0-6THHjoBRe"
      },
      "execution_count": null,
      "outputs": []
    },
    {
      "cell_type": "code",
      "source": [
        "#BM25\n",
        "bm25 = BM25Okapi(preprocessed_adr)\n",
        "# print(bm25.get_scores(preprocessed_reviews[36]))\n",
        "print(bm25.get_top_n(preprocessed_reviews[6], adr_list, n=5))"
      ],
      "metadata": {
        "colab": {
          "base_uri": "https://localhost:8080/"
        },
        "id": "74pMLgPAnvd5",
        "executionInfo": {
          "status": "ok",
          "timestamp": 1678722667594,
          "user_tz": 0,
          "elapsed": 209,
          "user": {
            "displayName": "Karina",
            "userId": "10900104624874413001"
          }
        },
        "outputId": "7f4cfb71-7ac1-44e4-90c2-45748d3e1adc"
      },
      "execution_count": null,
      "outputs": [
        {
          "output_type": "stream",
          "name": "stdout",
          "text": [
            "['positive pregnancy tests', 'negative pregnancy test', 'pregnancy test false positive', 'false positive pregnancy test', 'ectromelia two limbs']\n"
          ]
        }
      ]
    },
    {
      "cell_type": "code",
      "source": [
        "#TF-IDF\n",
        "vectorizer = TfidfVectorizer()\n",
        "tfidf_matrix = vectorizer.fit_transform(adr_list)\n",
        "\n",
        "# transform the query using the vectorizer\n",
        "query_tfidf = vectorizer.transform([reviews_list[6]])\n",
        "\n",
        "# calculate the cosine similarity between the query and the documents\n",
        "cosine_similarities = cosine_similarity(query_tfidf, tfidf_matrix).flatten()\n",
        "\n",
        "# create a list of document indices and their corresponding cosine similarities\n",
        "document_scores = [(i, score) for i, score in enumerate(cosine_similarities)]\n",
        "\n",
        "# sort the list by descending cosine similarity scores\n",
        "document_scores = sorted(document_scores, key=lambda x: x[1], reverse=True)\n",
        "\n",
        "# print the ranked documents\n",
        "count = 0\n",
        "for i, score in document_scores:\n",
        "    print(f\"ADR {i+1}: {preprocessed_adr[i]}, Score: {score:.2f}\")\n",
        "    count += 1\n",
        "    if count == 5:\n",
        "        break"
      ],
      "metadata": {
        "colab": {
          "base_uri": "https://localhost:8080/"
        },
        "id": "oWU8n_P9oEhJ",
        "executionInfo": {
          "status": "ok",
          "timestamp": 1678722682014,
          "user_tz": 0,
          "elapsed": 211,
          "user": {
            "displayName": "Karina",
            "userId": "10900104624874413001"
          }
        },
        "outputId": "29fed24c-133c-44ef-8ae9-587bdb0539c6"
      },
      "execution_count": null,
      "outputs": [
        {
          "output_type": "stream",
          "name": "stdout",
          "text": [
            "ADR 7446: ['negative', 'pregnancy', 'test'], Score: 0.37\n",
            "ADR 12985: ['haemorrhage', 'pregnancy'], Score: 0.36\n",
            "ADR 751: ['pregnancy'], Score: 0.35\n",
            "ADR 12556: ['blackout'], Score: 0.33\n",
            "ADR 313: ['pregnancy', 'test', 'false', 'positive'], Score: 0.33\n"
          ]
        }
      ]
    }
  ]
}